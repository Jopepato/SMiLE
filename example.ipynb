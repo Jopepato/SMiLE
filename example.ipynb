{
 "cells": [
  {
   "cell_type": "markdown",
   "metadata": {},
   "source": [
    "# Example for trying the algorithm and basic use of it"
   ]
  },
  {
   "cell_type": "code",
   "execution_count": 1,
   "metadata": {},
   "outputs": [],
   "source": [
    "from SMILE.smile_ import SMiLE\n",
    "from sklearn.datasets import make_multilabel_classification\n",
    "from sklearn.model_selection import KFold\n",
    "from functions import readDataFromFile\n",
    "import numpy as np"
   ]
  },
  {
   "cell_type": "markdown",
   "metadata": {},
   "source": [
    "## Generate the data"
   ]
  },
  {
   "cell_type": "code",
   "execution_count": 2,
   "metadata": {},
   "outputs": [
    {
     "name": "stdout",
     "output_type": "stream",
     "text": [
      "  (0, 0)\t0.08254\n",
      "  (0, 1)\t0.048394\n",
      "  (0, 2)\t0.322451\n",
      "  (0, 3)\t0.099049\n",
      "  (0, 4)\t-73.856273\n",
      "  (0, 5)\t2.538128\n",
      "  (0, 6)\t2.72329\n",
      "  (0, 7)\t1.110571\n",
      "  (0, 8)\t1.154735\n",
      "  (0, 9)\t0.714657\n",
      "  (0, 10)\t0.653754\n",
      "  (0, 11)\t0.596543\n",
      "  (0, 12)\t0.7319\n",
      "  (0, 13)\t0.247547\n",
      "  (0, 14)\t0.731591\n",
      "  (0, 15)\t0.522678\n",
      "  (0, 16)\t0.176512\n",
      "  (0, 17)\t0.067492\n",
      "  (0, 18)\t0.055001\n",
      "  (0, 19)\t0.369305\n",
      "  (0, 20)\t0.043764\n",
      "  (0, 21)\t6.096384\n",
      "  (0, 22)\t1.972327\n",
      "  (0, 23)\t1.281913\n",
      "  (0, 24)\t1.193782\n",
      "  :\t:\n",
      "  (446, 43)\t0.352598\n",
      "  (446, 44)\t0.477449\n",
      "  (446, 45)\t0.3917\n",
      "  (446, 46)\t0.392415\n",
      "  (446, 47)\t0.445219\n",
      "  (446, 48)\t0.479271\n",
      "  (446, 49)\t0.465497\n",
      "  (446, 50)\t0.517615\n",
      "  (446, 51)\t0.012705\n",
      "  (446, 52)\t0.014322\n",
      "  (446, 53)\t0.047956\n",
      "  (446, 54)\t0.03165\n",
      "  (446, 55)\t1.815593\n",
      "  (446, 56)\t0.328488\n",
      "  (446, 57)\t0.250294\n",
      "  (446, 58)\t0.206286\n",
      "  (446, 59)\t0.133358\n",
      "  (446, 60)\t0.128053\n",
      "  (446, 61)\t0.1246\n",
      "  (446, 62)\t0.131482\n",
      "  (446, 63)\t0.127403\n",
      "  (446, 64)\t0.107976\n",
      "  (446, 65)\t0.11156\n",
      "  (446, 66)\t0.14343\n",
      "  (446, 67)\t0.171373\n"
     ]
    }
   ],
   "source": [
    "x_train, y_train = readDataFromFile('data/CAL5000.train')\n",
    "x_test, y_test = readDataFromFile('data/CAL5000.gen')\n",
    "print(x_train)"
   ]
  },
  {
   "cell_type": "markdown",
   "metadata": {},
   "source": [
    "## Create the model and initialize it with the parameters we want"
   ]
  },
  {
   "cell_type": "code",
   "execution_count": 3,
   "metadata": {},
   "outputs": [],
   "source": [
    "smile = SMiLE(s=0.5, alpha=0.35, k=5)"
   ]
  },
  {
   "cell_type": "markdown",
   "metadata": {},
   "source": [
    "## Now we will train our model and predict, to compare the results"
   ]
  },
  {
   "cell_type": "code",
   "execution_count": 4,
   "metadata": {},
   "outputs": [
    {
     "name": "stdout",
     "output_type": "stream",
     "text": [
      "[[0 0 0 ... 0 0 0]\n",
      " [1 0 1 ... 1 1 1]\n",
      " [0 0 0 ... 0 0 0]\n",
      " ...\n",
      " [0 0 0 ... 0 0 0]\n",
      " [0 0 0 ... 0 0 0]\n",
      " [0 0 0 ... 0 0 0]]\n",
      "[[1 0 1 ... 0 0 0]\n",
      " [0 0 0 ... 0 0 0]\n",
      " [0 0 0 ... 0 0 0]\n",
      " ...\n",
      " [0 1 0 ... 0 0 0]\n",
      " [0 0 0 ... 0 0 0]\n",
      " [0 1 0 ... 0 0 0]]\n",
      "[[0. 0. 0. ... 0. 0. 0.]\n",
      " [1. 1. 1. ... 1. 1. 1.]\n",
      " [0. 0. 0. ... 0. 0. 0.]\n",
      " ...\n",
      " [0. 0. 0. ... 0. 0. 0.]\n",
      " [0. 0. 0. ... 0. 0. 0.]\n",
      " [0. 0. 0. ... 0. 0. 0.]]\n"
     ]
    },
    {
     "ename": "NameError",
     "evalue": "name 'probabilties' is not defined",
     "output_type": "error",
     "traceback": [
      "\u001b[0;31m---------------------------------------------------------------------------\u001b[0m",
      "\u001b[0;31mNameError\u001b[0m                                 Traceback (most recent call last)",
      "\u001b[0;32m<ipython-input-4-0337b96a819f>\u001b[0m in \u001b[0;36m<module>\u001b[0;34m\u001b[0m\n\u001b[1;32m      9\u001b[0m \u001b[0mprint\u001b[0m\u001b[0;34m(\u001b[0m\u001b[0my_test\u001b[0m\u001b[0;34m)\u001b[0m\u001b[0;34m\u001b[0m\u001b[0;34m\u001b[0m\u001b[0m\n\u001b[1;32m     10\u001b[0m \u001b[0mprint\u001b[0m\u001b[0;34m(\u001b[0m\u001b[0mpredictions\u001b[0m\u001b[0;34m)\u001b[0m\u001b[0;34m\u001b[0m\u001b[0;34m\u001b[0m\u001b[0m\n\u001b[0;32m---> 11\u001b[0;31m \u001b[0mprint\u001b[0m\u001b[0;34m(\u001b[0m\u001b[0mprobabilties\u001b[0m\u001b[0;34m)\u001b[0m\u001b[0;34m\u001b[0m\u001b[0;34m\u001b[0m\u001b[0m\n\u001b[0m",
      "\u001b[0;31mNameError\u001b[0m: name 'probabilties' is not defined"
     ]
    }
   ],
   "source": [
    "#This algorithm works with columns rather than with rows\n",
    "x_train = np.transpose(x_train.todense())\n",
    "y_train = np.transpose(y_train)\n",
    "x_test = np.transpose(x_test.todense())\n",
    "print(y_train)\n",
    "smile.fit(x_train, y_train)\n",
    "predictions = smile.predict(x_test)\n",
    "probabilties = smile.predict_proba(x_test)\n",
    "print(y_test)\n",
    "print(predictions)\n",
    "print(probabilties)"
   ]
  }
 ],
 "metadata": {
  "kernelspec": {
   "display_name": "Python 3",
   "language": "python",
   "name": "python3"
  },
  "language_info": {
   "codemirror_mode": {
    "name": "ipython",
    "version": 3
   },
   "file_extension": ".py",
   "mimetype": "text/x-python",
   "name": "python",
   "nbconvert_exporter": "python",
   "pygments_lexer": "ipython3",
   "version": "3.6.8"
  }
 },
 "nbformat": 4,
 "nbformat_minor": 2
}
