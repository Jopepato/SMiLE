{
 "cells": [
  {
   "cell_type": "markdown",
   "metadata": {},
   "source": [
    "# Example for trying the algorithm and basic use of it"
   ]
  },
  {
   "cell_type": "code",
   "execution_count": 1,
   "metadata": {},
   "outputs": [],
   "source": [
    "from SMILE.smile_ import SMiLE\n",
    "from sklearn.datasets import make_multilabel_classification\n",
    "from sklearn.model_selection import KFold\n",
    "import numpy as np"
   ]
  },
  {
   "cell_type": "markdown",
   "metadata": {},
   "source": [
    "## Generate the data"
   ]
  },
  {
   "cell_type": "code",
   "execution_count": 2,
   "metadata": {},
   "outputs": [
    {
     "data": {
      "text/plain": [
       "array([[4., 5., 1., ..., 4., 1., 3.],\n",
       "       [1., 3., 3., ..., 1., 1., 0.],\n",
       "       [2., 3., 0., ..., 2., 2., 2.],\n",
       "       ...,\n",
       "       [0., 4., 0., ..., 1., 1., 5.],\n",
       "       [0., 1., 6., ..., 0., 1., 6.],\n",
       "       [5., 3., 4., ..., 0., 2., 5.]])"
      ]
     },
     "execution_count": 2,
     "metadata": {},
     "output_type": "execute_result"
    }
   ],
   "source": [
    "X, y = make_multilabel_classification(n_samples=700)\n",
    "X"
   ]
  },
  {
   "cell_type": "markdown",
   "metadata": {},
   "source": [
    "## Create the model and initialize it with the parameters we want"
   ]
  },
  {
   "cell_type": "code",
   "execution_count": 3,
   "metadata": {},
   "outputs": [],
   "source": [
    "smile = SMiLE(s=0.5, alpha=0.35, k=5)"
   ]
  },
  {
   "cell_type": "markdown",
   "metadata": {},
   "source": [
    "## Generate the partitions of the data for training and predict"
   ]
  },
  {
   "cell_type": "code",
   "execution_count": 4,
   "metadata": {},
   "outputs": [
    {
     "name": "stdout",
     "output_type": "stream",
     "text": [
      "[[4. 5. 1. ... 4. 1. 3.]\n",
      " [1. 3. 3. ... 1. 1. 0.]\n",
      " [2. 3. 0. ... 2. 2. 2.]\n",
      " ...\n",
      " [4. 1. 3. ... 0. 4. 2.]\n",
      " [3. 1. 5. ... 1. 5. 3.]\n",
      " [3. 3. 2. ... 3. 4. 3.]]\n",
      "[[6. 3. 3. ... 3. 1. 3.]\n",
      " [2. 5. 4. ... 6. 3. 0.]\n",
      " [0. 3. 3. ... 2. 2. 5.]\n",
      " ...\n",
      " [0. 4. 0. ... 1. 1. 5.]\n",
      " [0. 1. 6. ... 0. 1. 6.]\n",
      " [5. 3. 4. ... 0. 2. 5.]]\n"
     ]
    }
   ],
   "source": [
    "skf = KFold(n_splits=2)\n",
    "for train_index, test_index in skf.split(X, y):\n",
    "    X_train, X_test = X[train_index], X[test_index]\n",
    "    y_train, y_test = y[train_index], y[test_index]\n",
    "\n",
    "print(X_train)\n",
    "print(X_test)"
   ]
  },
  {
   "cell_type": "markdown",
   "metadata": {},
   "source": [
    "## Now we will train our model and predict, to compare the results"
   ]
  },
  {
   "cell_type": "code",
   "execution_count": 5,
   "metadata": {},
   "outputs": [
    {
     "name": "stdout",
     "output_type": "stream",
     "text": [
      "(5, 1)\n",
      "[[0.62444236 1.82606465 0.82689403 0.83417465 0.65312862]\n",
      " [0.68608559 1.88770788 0.88853726 0.89581789 0.71477186]\n",
      " [0.68965568 1.89127797 0.89210736 0.89938798 0.71834195]\n",
      " ...\n",
      " [0.64560233 1.84722462 0.848054   0.85533462 0.67428859]\n",
      " [0.56547503 1.76709732 0.7679267  0.77520732 0.59416129]\n",
      " [0.68037656 1.88199885 0.88282823 0.89010885 0.70906282]]\n",
      "[[1 0 0 0 0]\n",
      " [0 0 0 1 1]\n",
      " [0 1 1 1 1]\n",
      " ...\n",
      " [0 0 1 0 0]\n",
      " [0 0 0 0 0]\n",
      " [0 0 0 0 0]]\n"
     ]
    }
   ],
   "source": [
    "#This algorithm works with columns rather than with rows\n",
    "X_train = np.transpose(X_train)\n",
    "y_train = np.transpose(y_train)\n",
    "X_test = np.transpose(X_test)\n",
    "smile.fit(X_train, y_train)\n",
    "predictions = smile.predict(X_test)\n",
    "print(predictions)\n",
    "print(y_test)"
   ]
  },
  {
   "cell_type": "code",
   "execution_count": null,
   "metadata": {},
   "outputs": [],
   "source": []
  },
  {
   "cell_type": "code",
   "execution_count": null,
   "metadata": {},
   "outputs": [],
   "source": []
  }
 ],
 "metadata": {
  "kernelspec": {
   "display_name": "Python 2",
   "language": "python",
   "name": "python2"
  },
  "language_info": {
   "codemirror_mode": {
    "name": "ipython",
    "version": 2
   },
   "file_extension": ".py",
   "mimetype": "text/x-python",
   "name": "python",
   "nbconvert_exporter": "python",
   "pygments_lexer": "ipython2",
   "version": "2.7.14"
  }
 },
 "nbformat": 4,
 "nbformat_minor": 2
}
