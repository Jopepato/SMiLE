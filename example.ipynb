{
 "cells": [
  {
   "cell_type": "markdown",
   "metadata": {},
   "source": [
    "# Example for trying the algorithm and basic use of it"
   ]
  },
  {
   "cell_type": "code",
   "execution_count": 1,
   "metadata": {},
   "outputs": [],
   "source": [
    "from SMILE.smile_ import SMiLE\n",
    "from sklearn.datasets import make_multilabel_classification\n",
    "from sklearn.model_selection import KFold"
   ]
  },
  {
   "cell_type": "markdown",
   "metadata": {},
   "source": [
    "## Generate the data"
   ]
  },
  {
   "cell_type": "code",
   "execution_count": 2,
   "metadata": {},
   "outputs": [
    {
     "data": {
      "text/plain": [
       "array([[ 3.,  0.,  3., ...,  2.,  2.,  4.],\n",
       "       [ 0.,  4.,  2., ...,  2.,  1., 12.],\n",
       "       [ 3.,  1.,  1., ...,  2.,  4.,  4.],\n",
       "       ...,\n",
       "       [ 2.,  6.,  5., ...,  2.,  3.,  6.],\n",
       "       [ 5.,  6.,  4., ...,  2.,  6.,  4.],\n",
       "       [ 0.,  9.,  2., ...,  5.,  2.,  4.]])"
      ]
     },
     "execution_count": 2,
     "metadata": {},
     "output_type": "execute_result"
    }
   ],
   "source": [
    "X, y = make_multilabel_classification(n_samples=700)\n",
    "X"
   ]
  },
  {
   "cell_type": "markdown",
   "metadata": {},
   "source": [
    "## Create the model and initialize it with the parameters we want"
   ]
  },
  {
   "cell_type": "code",
   "execution_count": 3,
   "metadata": {},
   "outputs": [],
   "source": [
    "smile = SMiLE(s=0.5, alpha=0.35, k=5)"
   ]
  },
  {
   "cell_type": "markdown",
   "metadata": {},
   "source": [
    "## Generate the partitions of the data for training and predict"
   ]
  },
  {
   "cell_type": "code",
   "execution_count": 5,
   "metadata": {},
   "outputs": [
    {
     "name": "stdout",
     "output_type": "stream",
     "text": [
      "[[ 3.  0.  3. ...  2.  2.  4.]\n",
      " [ 0.  4.  2. ...  2.  1. 12.]\n",
      " [ 3.  1.  1. ...  2.  4.  4.]\n",
      " ...\n",
      " [ 2.  4.  0. ...  3.  1.  5.]\n",
      " [ 2.  1.  1. ...  6.  1.  5.]\n",
      " [ 4.  1.  2. ...  4.  7.  1.]]\n",
      "[[ 0.  6.  2. ...  2.  2.  5.]\n",
      " [ 2.  4.  4. ...  5.  1. 10.]\n",
      " [ 5.  3.  2. ...  3.  1.  3.]\n",
      " ...\n",
      " [ 2.  6.  5. ...  2.  3.  6.]\n",
      " [ 5.  6.  4. ...  2.  6.  4.]\n",
      " [ 0.  9.  2. ...  5.  2.  4.]]\n"
     ]
    }
   ],
   "source": [
    "skf = KFold(n_splits=2)\n",
    "for train_index, test_index in skf.split(X, y):\n",
    "    X_train, X_test = X[train_index], X[test_index]\n",
    "    y_train, y_test = y[train_index], y[test_index]\n",
    "\n",
    "print(X_train)\n",
    "print(X_test)"
   ]
  },
  {
   "cell_type": "markdown",
   "metadata": {},
   "source": [
    "## Now we will train our model and predict, to compare the results"
   ]
  },
  {
   "cell_type": "code",
   "execution_count": 6,
   "metadata": {},
   "outputs": [
    {
     "name": "stdout",
     "output_type": "stream",
     "text": [
      "[[1.87582405 1.23504912 1.06681664 1.01788249 0.85967629]\n",
      " [1.87053892 1.22997357 1.09155044 1.02921819 0.87602303]\n",
      " [1.83704634 1.22122434 1.06898509 1.02148648 0.85833201]\n",
      " ...\n",
      " [1.88647169 1.22747584 1.08578967 1.03694852 0.87683531]\n",
      " [1.83757157 1.24710946 1.09734079 1.04893451 0.88180667]\n",
      " [1.91281489 1.26850021 1.11894781 1.05132324 0.87189379]]\n",
      "[[0 0 1 1 0]\n",
      " [0 0 0 1 0]\n",
      " [0 0 0 0 0]\n",
      " ...\n",
      " [0 1 1 0 0]\n",
      " [1 0 0 0 0]\n",
      " [0 0 1 1 1]]\n"
     ]
    }
   ],
   "source": [
    "smile.fit(X_train, y_train)\n",
    "predictions = smile.predict(X_test)\n",
    "print(predictions)\n",
    "print(y_test)"
   ]
  },
  {
   "cell_type": "code",
   "execution_count": null,
   "metadata": {},
   "outputs": [],
   "source": []
  },
  {
   "cell_type": "code",
   "execution_count": null,
   "metadata": {},
   "outputs": [],
   "source": []
  }
 ],
 "metadata": {
  "kernelspec": {
   "display_name": "Python 3",
   "language": "python",
   "name": "python3"
  },
  "language_info": {
   "codemirror_mode": {
    "name": "ipython",
    "version": 3
   },
   "file_extension": ".py",
   "mimetype": "text/x-python",
   "name": "python",
   "nbconvert_exporter": "python",
   "pygments_lexer": "ipython3",
   "version": "3.7.0"
  }
 },
 "nbformat": 4,
 "nbformat_minor": 2
}
