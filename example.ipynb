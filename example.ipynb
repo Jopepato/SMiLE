{
 "cells": [
  {
   "cell_type": "markdown",
   "metadata": {},
   "source": [
    "# Example for trying the algorithm and basic use of it"
   ]
  },
  {
   "cell_type": "code",
   "execution_count": 1,
   "metadata": {},
   "outputs": [],
   "source": [
    "from SMILE.smile_ import SMiLE\n",
    "from sklearn.datasets import make_multilabel_classification\n",
    "from sklearn.model_selection import KFold\n",
    "import numpy as np"
   ]
  },
  {
   "cell_type": "markdown",
   "metadata": {},
   "source": [
    "## Generate the data"
   ]
  },
  {
   "cell_type": "code",
   "execution_count": 2,
   "metadata": {},
   "outputs": [
    {
     "data": {
      "text/plain": [
       "array([[1., 3., 5., ..., 3., 5., 4.],\n",
       "       [1., 3., 0., ..., 1., 1., 2.],\n",
       "       [2., 1., 5., ..., 1., 0., 6.],\n",
       "       ...,\n",
       "       [2., 2., 3., ..., 0., 1., 2.],\n",
       "       [2., 4., 3., ..., 0., 5., 0.],\n",
       "       [4., 6., 0., ..., 2., 5., 1.]])"
      ]
     },
     "execution_count": 2,
     "metadata": {},
     "output_type": "execute_result"
    }
   ],
   "source": [
    "X, y = make_multilabel_classification(n_samples=700)\n",
    "X"
   ]
  },
  {
   "cell_type": "markdown",
   "metadata": {},
   "source": [
    "## Create the model and initialize it with the parameters we want"
   ]
  },
  {
   "cell_type": "code",
   "execution_count": 3,
   "metadata": {},
   "outputs": [],
   "source": [
    "smile = SMiLE(s=0.5, alpha=0.35, k=5)"
   ]
  },
  {
   "cell_type": "markdown",
   "metadata": {},
   "source": [
    "## Generate the partitions of the data for training and predict"
   ]
  },
  {
   "cell_type": "code",
   "execution_count": 4,
   "metadata": {},
   "outputs": [
    {
     "name": "stdout",
     "output_type": "stream",
     "text": [
      "[[1. 3. 5. ... 3. 5. 4.]\n",
      " [1. 3. 0. ... 1. 1. 2.]\n",
      " [2. 1. 5. ... 1. 0. 6.]\n",
      " ...\n",
      " [3. 4. 0. ... 3. 3. 4.]\n",
      " [3. 3. 2. ... 3. 1. 0.]\n",
      " [2. 2. 6. ... 0. 6. 1.]]\n",
      "[[4. 1. 2. ... 2. 1. 2.]\n",
      " [4. 1. 1. ... 4. 0. 3.]\n",
      " [3. 1. 1. ... 0. 4. 2.]\n",
      " ...\n",
      " [2. 2. 3. ... 0. 1. 2.]\n",
      " [2. 4. 3. ... 0. 5. 0.]\n",
      " [4. 6. 0. ... 2. 5. 1.]]\n"
     ]
    }
   ],
   "source": [
    "skf = KFold(n_splits=2)\n",
    "for train_index, test_index in skf.split(X, y):\n",
    "    X_train, X_test = X[train_index], X[test_index]\n",
    "    y_train, y_test = y[train_index], y[test_index]\n",
    "\n",
    "print(X_train)\n",
    "print(X_test)"
   ]
  },
  {
   "cell_type": "markdown",
   "metadata": {},
   "source": [
    "## Now we will train our model and predict, to compare the results"
   ]
  },
  {
   "cell_type": "code",
   "execution_count": 5,
   "metadata": {},
   "outputs": [
    {
     "name": "stdout",
     "output_type": "stream",
     "text": [
      "[[0.996875   0.640625   0.421875   0.534375   0.209375  ]\n",
      " [0.52295918 0.99744898 0.42091837 0.51785714 0.22193878]\n",
      " [0.54       0.66       0.996      0.484      0.268     ]\n",
      " [0.53773585 0.63836478 0.38050314 0.99685535 0.21069182]\n",
      " [0.50757576 0.65909091 0.50757576 0.50757576 0.99242424]]\n",
      "[[1.         1.         0.         ... 1.         1.         1.        ]\n",
      " [0.4855643  0.34117647 0.         ... 0.51       1.         1.        ]\n",
      " [1.         0.26517984 0.         ... 0.40410418 1.         0.2481203 ]\n",
      " [0.26976852 1.         0.         ... 1.         0.34161491 0.22115645]\n",
      " [0.26923637 0.16300155 0.         ... 0.2583572  0.33378988 0.21068205]]\n",
      "[[1 0 0 ... 1 1 0]\n",
      " [0 0 0 ... 0 1 1]\n",
      " [1 0 0 ... 0 1 0]\n",
      " [0 1 0 ... 1 0 0]\n",
      " [0 0 0 ... 0 0 0]]\n",
      "[[0.92695292 0.72916893 0.61951905 0.63327633 0.47403053]\n",
      " [0.93958859 0.7418046  0.63215473 0.64591201 0.48666621]\n",
      " [0.90751157 0.70972758 0.60007771 0.61383499 0.45458919]\n",
      " ...\n",
      " [0.89240112 0.69461713 0.58496725 0.59872453 0.43947873]\n",
      " [0.94214178 0.74435779 0.63470792 0.6484652  0.4892194 ]\n",
      " [0.98838914 0.79060515 0.68095527 0.69471255 0.53546676]]\n",
      "[[1. 1. 1. 1. 0.]\n",
      " [1. 1. 1. 1. 0.]\n",
      " [1. 1. 1. 1. 0.]\n",
      " ...\n",
      " [1. 1. 0. 0. 0.]\n",
      " [1. 1. 1. 1. 0.]\n",
      " [1. 1. 1. 1. 0.]]\n",
      "[[0 0 0 0 0]\n",
      " [1 1 1 0 1]\n",
      " [0 1 0 0 0]\n",
      " ...\n",
      " [0 0 0 0 0]\n",
      " [0 1 0 0 0]\n",
      " [1 1 0 1 0]]\n"
     ]
    }
   ],
   "source": [
    "#This algorithm works with columns rather than with rows\n",
    "X_train = np.transpose(X_train)\n",
    "y_train = np.transpose(y_train)\n",
    "X_test = np.transpose(X_test)\n",
    "smile.fit(X_train, y_train)\n",
    "predictions1, predictions2 = smile.predict(X_test)\n",
    "print(y_train)\n",
    "print(np.transpose(predictions1))\n",
    "print(np.transpose(predictions2))\n",
    "print(y_test)"
   ]
  },
  {
   "cell_type": "code",
   "execution_count": null,
   "metadata": {},
   "outputs": [],
   "source": []
  },
  {
   "cell_type": "code",
   "execution_count": null,
   "metadata": {},
   "outputs": [],
   "source": []
  }
 ],
 "metadata": {
  "kernelspec": {
   "display_name": "Python 2",
   "language": "python",
   "name": "python2"
  },
  "language_info": {
   "codemirror_mode": {
    "name": "ipython",
    "version": 2
   },
   "file_extension": ".py",
   "mimetype": "text/x-python",
   "name": "python",
   "nbconvert_exporter": "python",
   "pygments_lexer": "ipython2",
   "version": "2.7.14"
  }
 },
 "nbformat": 4,
 "nbformat_minor": 2
}
