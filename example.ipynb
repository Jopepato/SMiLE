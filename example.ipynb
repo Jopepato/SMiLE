{
 "cells": [
  {
   "cell_type": "markdown",
   "metadata": {},
   "source": [
    "# Example for trying the algorithm and basic use of it"
   ]
  },
  {
   "cell_type": "code",
   "execution_count": 1,
   "metadata": {},
   "outputs": [],
   "source": [
    "from SMILE.smile_ import SMiLE\n",
    "from sklearn.datasets import make_multilabel_classification\n",
    "from sklearn.model_selection import KFold"
   ]
  },
  {
   "cell_type": "markdown",
   "metadata": {},
   "source": [
    "## Generate the data"
   ]
  },
  {
   "cell_type": "code",
   "execution_count": 2,
   "metadata": {},
   "outputs": [
    {
     "data": {
      "text/plain": [
       "array([[4., 2., 5., ..., 1., 1., 1.],\n",
       "       [2., 4., 6., ..., 0., 6., 2.],\n",
       "       [5., 4., 5., ..., 2., 1., 2.],\n",
       "       ...,\n",
       "       [5., 2., 3., ..., 4., 1., 4.],\n",
       "       [4., 1., 5., ..., 0., 3., 3.],\n",
       "       [4., 4., 4., ..., 3., 5., 3.]])"
      ]
     },
     "execution_count": 2,
     "metadata": {},
     "output_type": "execute_result"
    }
   ],
   "source": [
    "X, y = make_multilabel_classification(n_samples=700)\n",
    "X"
   ]
  },
  {
   "cell_type": "markdown",
   "metadata": {},
   "source": [
    "## Create the model and initialize it with the parameters we want"
   ]
  },
  {
   "cell_type": "code",
   "execution_count": 3,
   "metadata": {},
   "outputs": [],
   "source": [
    "smile = SMiLE(s=0.5, alpha=0.35, k=5)"
   ]
  },
  {
   "cell_type": "markdown",
   "metadata": {},
   "source": [
    "## Generate the partitions of the data for training and predict"
   ]
  },
  {
   "cell_type": "code",
   "execution_count": 4,
   "metadata": {},
   "outputs": [
    {
     "name": "stdout",
     "output_type": "stream",
     "text": [
      "[[4. 2. 5. ... 1. 1. 1.]\n",
      " [2. 4. 6. ... 0. 6. 2.]\n",
      " [5. 4. 5. ... 2. 1. 2.]\n",
      " ...\n",
      " [5. 4. 3. ... 3. 3. 0.]\n",
      " [4. 1. 2. ... 3. 2. 5.]\n",
      " [7. 1. 4. ... 2. 7. 1.]]\n",
      "[[4. 1. 2. ... 4. 0. 1.]\n",
      " [6. 1. 6. ... 2. 1. 0.]\n",
      " [3. 4. 6. ... 1. 4. 6.]\n",
      " ...\n",
      " [5. 2. 3. ... 4. 1. 4.]\n",
      " [4. 1. 5. ... 0. 3. 3.]\n",
      " [4. 4. 4. ... 3. 5. 3.]]\n"
     ]
    }
   ],
   "source": [
    "skf = KFold(n_splits=2)\n",
    "for train_index, test_index in skf.split(X, y):\n",
    "    X_train, X_test = X[train_index], X[test_index]\n",
    "    y_train, y_test = y[train_index], y[test_index]\n",
    "\n",
    "print X_train\n",
    "print X_test"
   ]
  },
  {
   "cell_type": "markdown",
   "metadata": {},
   "source": [
    "## Now we will train our model and predict, to compare the results"
   ]
  },
  {
   "cell_type": "code",
   "execution_count": 5,
   "metadata": {},
   "outputs": [
    {
     "name": "stdout",
     "output_type": "stream",
     "text": [
      "[[ 0.02885179  0.01012967 -0.00252834  0.01892275  0.01930576]\n",
      " [-0.01640154  0.00281396  0.00677007  0.01077791  0.02153663]\n",
      " [-0.0040815   0.0221592   0.04250007  0.02760128  0.0235264 ]\n",
      " ...\n",
      " [-0.00466167  0.00806409  0.036927    0.03130569  0.02972965]\n",
      " [ 0.03148187  0.01692176  0.02994432  0.01812514  0.01023162]\n",
      " [ 0.05063062  0.02565688  0.02948275  0.02148845  0.02078938]]\n",
      "[[0 1 0 0 0]\n",
      " [0 0 0 1 0]\n",
      " [0 1 0 1 0]\n",
      " ...\n",
      " [0 1 0 0 0]\n",
      " [0 1 0 1 1]\n",
      " [0 1 0 1 0]]\n"
     ]
    }
   ],
   "source": [
    "smile.fit(X_train, y_train)\n",
    "predictions = smile.predict(X_test)\n",
    "print predictions\n",
    "print y_test"
   ]
  },
  {
   "cell_type": "code",
   "execution_count": null,
   "metadata": {},
   "outputs": [],
   "source": []
  }
 ],
 "metadata": {
  "kernelspec": {
   "display_name": "Python 2",
   "language": "python",
   "name": "python2"
  },
  "language_info": {
   "codemirror_mode": {
    "name": "ipython",
    "version": 2
   },
   "file_extension": ".py",
   "mimetype": "text/x-python",
   "name": "python",
   "nbconvert_exporter": "python",
   "pygments_lexer": "ipython2",
   "version": "2.7.14"
  }
 },
 "nbformat": 4,
 "nbformat_minor": 2
}
