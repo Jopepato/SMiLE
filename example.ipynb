{
 "cells": [
  {
   "cell_type": "markdown",
   "metadata": {},
   "source": [
    "# Example for trying the algorithm and basic use of it"
   ]
  },
  {
   "cell_type": "code",
   "execution_count": 1,
   "metadata": {},
   "outputs": [],
   "source": [
    "from SMILE.smile_ import SMiLE\n",
    "from sklearn.datasets import make_multilabel_classification\n",
    "from sklearn.model_selection import KFold"
   ]
  },
  {
   "cell_type": "markdown",
   "metadata": {},
   "source": [
    "## Generate the data"
   ]
  },
  {
   "cell_type": "code",
   "execution_count": 2,
   "metadata": {},
   "outputs": [
    {
     "data": {
      "text/plain": [
       "array([[1., 1., 5., ..., 3., 0., 4.],\n",
       "       [2., 4., 1., ..., 2., 1., 3.],\n",
       "       [2., 1., 0., ..., 0., 1., 1.],\n",
       "       ...,\n",
       "       [5., 3., 1., ..., 2., 3., 6.],\n",
       "       [2., 0., 2., ..., 1., 4., 2.],\n",
       "       [0., 1., 3., ..., 3., 0., 0.]])"
      ]
     },
     "execution_count": 2,
     "metadata": {},
     "output_type": "execute_result"
    }
   ],
   "source": [
    "X, y = make_multilabel_classification(n_samples=700)\n",
    "X"
   ]
  },
  {
   "cell_type": "markdown",
   "metadata": {},
   "source": [
    "## Create the model and initialize it with the parameters we want"
   ]
  },
  {
   "cell_type": "code",
   "execution_count": 3,
   "metadata": {},
   "outputs": [],
   "source": [
    "smile = SMiLE(s=0.5, alpha=0.35, k=5)"
   ]
  },
  {
   "cell_type": "markdown",
   "metadata": {},
   "source": [
    "## Generate the partitions of the data for training and predict"
   ]
  },
  {
   "cell_type": "code",
   "execution_count": 4,
   "metadata": {},
   "outputs": [
    {
     "name": "stdout",
     "output_type": "stream",
     "text": [
      "[[1. 1. 5. ... 3. 0. 4.]\n",
      " [2. 4. 1. ... 2. 1. 3.]\n",
      " [2. 1. 0. ... 0. 1. 1.]\n",
      " ...\n",
      " [1. 5. 2. ... 1. 0. 4.]\n",
      " [5. 2. 1. ... 0. 2. 2.]\n",
      " [1. 0. 6. ... 2. 2. 3.]]\n",
      "[[1. 0. 2. ... 1. 3. 6.]\n",
      " [2. 1. 1. ... 2. 6. 2.]\n",
      " [2. 3. 3. ... 4. 2. 6.]\n",
      " ...\n",
      " [5. 3. 1. ... 2. 3. 6.]\n",
      " [2. 0. 2. ... 1. 4. 2.]\n",
      " [0. 1. 3. ... 3. 0. 0.]]\n"
     ]
    }
   ],
   "source": [
    "skf = KFold(n_splits=2)\n",
    "for train_index, test_index in skf.split(X, y):\n",
    "    X_train, X_test = X[train_index], X[test_index]\n",
    "    y_train, y_test = y[train_index], y[test_index]\n",
    "\n",
    "print X_train\n",
    "print X_test"
   ]
  },
  {
   "cell_type": "markdown",
   "metadata": {},
   "source": [
    "## Now we will train our model and predict, to compare the results"
   ]
  },
  {
   "cell_type": "code",
   "execution_count": 5,
   "metadata": {},
   "outputs": [
    {
     "name": "stdout",
     "output_type": "stream",
     "text": [
      "[[1.65528091 1.60788347 1.15786901 1.0086318  1.01315616]\n",
      " [1.58686061 1.57891208 1.13578681 0.98459057 0.99179879]\n",
      " [1.61282476 1.60862119 1.16426758 0.98903998 0.99905863]\n",
      " ...\n",
      " [1.5639333  1.57153723 1.14295146 0.99212756 0.99564547]\n",
      " [1.58842897 1.60509568 1.14851341 0.99177333 0.9973565 ]\n",
      " [1.6055172  1.62111591 1.17854177 0.99642568 1.00700252]]\n",
      "[[0 0 1 0 1]\n",
      " [0 0 1 0 0]\n",
      " [1 0 1 1 1]\n",
      " ...\n",
      " [0 0 0 0 0]\n",
      " [0 0 1 0 0]\n",
      " [1 0 0 1 1]]\n"
     ]
    }
   ],
   "source": [
    "smile.fit(X_train, y_train)\n",
    "predictions = smile.predict(X_test)\n",
    "print predictions\n",
    "print y_test"
   ]
  },
  {
   "cell_type": "code",
   "execution_count": null,
   "metadata": {},
   "outputs": [],
   "source": []
  }
 ],
 "metadata": {
  "kernelspec": {
   "display_name": "Python 2",
   "language": "python",
   "name": "python2"
  },
  "language_info": {
   "codemirror_mode": {
    "name": "ipython",
    "version": 2
   },
   "file_extension": ".py",
   "mimetype": "text/x-python",
   "name": "python",
   "nbconvert_exporter": "python",
   "pygments_lexer": "ipython2",
   "version": "2.7.14"
  }
 },
 "nbformat": 4,
 "nbformat_minor": 2
}
