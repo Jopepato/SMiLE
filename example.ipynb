{
 "cells": [
  {
   "cell_type": "markdown",
   "metadata": {},
   "source": [
    "# Example for trying the algorithm and basic use of it"
   ]
  },
  {
   "cell_type": "code",
   "execution_count": 1,
   "metadata": {},
   "outputs": [],
   "source": [
    "from SMILE.smile_ import SMiLE\n",
    "from sklearn.datasets import make_multilabel_classification\n",
    "from sklearn.model_selection import KFold\n",
    "import numpy as np"
   ]
  },
  {
   "cell_type": "markdown",
   "metadata": {},
   "source": [
    "## Generate the data"
   ]
  },
  {
   "cell_type": "code",
   "execution_count": 2,
   "metadata": {},
   "outputs": [
    {
     "data": {
      "text/plain": [
       "array([[1., 0., 3., ..., 2., 2., 2.],\n",
       "       [4., 3., 1., ..., 1., 3., 1.],\n",
       "       [0., 2., 0., ..., 2., 3., 5.],\n",
       "       ...,\n",
       "       [4., 3., 1., ..., 0., 2., 0.],\n",
       "       [4., 2., 2., ..., 2., 0., 2.],\n",
       "       [2., 3., 2., ..., 4., 2., 2.]])"
      ]
     },
     "execution_count": 2,
     "metadata": {},
     "output_type": "execute_result"
    }
   ],
   "source": [
    "X, y = make_multilabel_classification(n_samples=700)\n",
    "X"
   ]
  },
  {
   "cell_type": "markdown",
   "metadata": {},
   "source": [
    "## Create the model and initialize it with the parameters we want"
   ]
  },
  {
   "cell_type": "code",
   "execution_count": 3,
   "metadata": {},
   "outputs": [],
   "source": [
    "smile = SMiLE(s=0.5, alpha=0.35, k=5)"
   ]
  },
  {
   "cell_type": "markdown",
   "metadata": {},
   "source": [
    "## Generate the partitions of the data for training and predict"
   ]
  },
  {
   "cell_type": "code",
   "execution_count": 4,
   "metadata": {},
   "outputs": [
    {
     "name": "stdout",
     "output_type": "stream",
     "text": [
      "[[1. 0. 3. ... 2. 2. 2.]\n",
      " [4. 3. 1. ... 1. 3. 1.]\n",
      " [0. 2. 0. ... 2. 3. 5.]\n",
      " ...\n",
      " [4. 3. 2. ... 2. 2. 0.]\n",
      " [3. 2. 4. ... 0. 1. 0.]\n",
      " [1. 2. 2. ... 4. 0. 1.]]\n",
      "[[4. 7. 5. ... 0. 3. 1.]\n",
      " [3. 0. 3. ... 2. 4. 1.]\n",
      " [2. 7. 1. ... 0. 0. 1.]\n",
      " ...\n",
      " [4. 3. 1. ... 0. 2. 0.]\n",
      " [4. 2. 2. ... 2. 0. 2.]\n",
      " [2. 3. 2. ... 4. 2. 2.]]\n"
     ]
    }
   ],
   "source": [
    "skf = KFold(n_splits=2)\n",
    "for train_index, test_index in skf.split(X, y):\n",
    "    X_train, X_test = X[train_index], X[test_index]\n",
    "    y_train, y_test = y[train_index], y[test_index]\n",
    "\n",
    "print(X_train)\n",
    "print(X_test)"
   ]
  },
  {
   "cell_type": "markdown",
   "metadata": {},
   "source": [
    "## Now we will train our model and predict, to compare the results"
   ]
  },
  {
   "cell_type": "code",
   "execution_count": 5,
   "metadata": {},
   "outputs": [
    {
     "name": "stdout",
     "output_type": "stream",
     "text": [
      "[[0.99242424 0.26515152 0.88636364 0.70454545 0.64393939]\n",
      " [0.26923077 0.99230769 0.86923077 0.62307692 0.63846154]\n",
      " [0.25434783 0.24565217 0.99782609 0.57173913 0.61956522]\n",
      " [0.28181818 0.24545455 0.7969697  0.9969697  0.62121212]\n",
      " [0.22972973 0.22432432 0.77027027 0.55405405 0.9972973 ]]\n",
      "[[0.         1.         1.         ... 0.         1.         1.        ]\n",
      " [0.         1.         0.70588235 ... 0.         0.59876543 0.68058968]\n",
      " [0.         1.         1.         ... 0.         1.         1.        ]\n",
      " [0.         1.         1.         ... 0.         1.         1.        ]\n",
      " [0.         1.         1.         ... 0.         0.26900268 1.        ]]\n",
      "[[1. 4. 0. ... 4. 3. 1.]\n",
      " [0. 3. 2. ... 3. 2. 2.]\n",
      " [3. 1. 0. ... 2. 4. 2.]\n",
      " ...\n",
      " [2. 1. 2. ... 2. 0. 4.]\n",
      " [2. 3. 3. ... 2. 1. 0.]\n",
      " [2. 1. 5. ... 0. 0. 1.]]\n",
      "[[0.89341655 0.67898671 0.79245603 0.69850778 0.7040598 ]\n",
      " [0.8526589  0.63822906 0.75169838 0.65775014 0.66330216]\n",
      " [0.85479227 0.64036242 0.75383175 0.6598835  0.66543552]\n",
      " ...\n",
      " [0.91342784 0.698998   0.81246732 0.71851908 0.7240711 ]\n",
      " [0.83749773 0.62306789 0.73653721 0.64258897 0.64814098]\n",
      " [0.87893419 0.66450434 0.77797367 0.68402542 0.68957744]]\n",
      "[[1. 1. 1. 1. 1.]\n",
      " [1. 1. 1. 1. 1.]\n",
      " [1. 1. 1. 1. 1.]\n",
      " ...\n",
      " [1. 1. 1. 1. 1.]\n",
      " [1. 1. 1. 1. 1.]\n",
      " [1. 1. 1. 1. 1.]]\n",
      "[[0 0 1 1 0]\n",
      " [0 1 0 0 0]\n",
      " [0 0 1 1 0]\n",
      " ...\n",
      " [0 0 1 0 0]\n",
      " [0 0 1 1 1]\n",
      " [0 0 0 0 0]]\n"
     ]
    }
   ],
   "source": [
    "#This algorithm works with columns rather than with rows\n",
    "X_train = np.transpose(X_train)\n",
    "y_train = np.transpose(y_train)\n",
    "X_test = np.transpose(X_test)\n",
    "smile.fit(X_train, y_train)\n",
    "predictions1, predictions2 = smile.predict(X_test)\n",
    "print(y_train)\n",
    "print(np.transpose(predictions1))\n",
    "print(np.transpose(predictions2))\n",
    "print(y_test)"
   ]
  },
  {
   "cell_type": "code",
   "execution_count": null,
   "metadata": {},
   "outputs": [],
   "source": []
  },
  {
   "cell_type": "code",
   "execution_count": null,
   "metadata": {},
   "outputs": [],
   "source": []
  }
 ],
 "metadata": {
  "kernelspec": {
   "display_name": "Python 2",
   "language": "python",
   "name": "python2"
  },
  "language_info": {
   "codemirror_mode": {
    "name": "ipython",
    "version": 2
   },
   "file_extension": ".py",
   "mimetype": "text/x-python",
   "name": "python",
   "nbconvert_exporter": "python",
   "pygments_lexer": "ipython2",
   "version": "2.7.14"
  }
 },
 "nbformat": 4,
 "nbformat_minor": 2
}
