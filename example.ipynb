{
 "cells": [
  {
   "cell_type": "markdown",
   "metadata": {},
   "source": [
    "# Example for trying the algorithm and basic use of it"
   ]
  },
  {
   "cell_type": "code",
   "execution_count": 1,
   "metadata": {},
   "outputs": [],
   "source": [
    "from SMILE.smile_ import SMiLE\n",
    "from sklearn.datasets import make_multilabel_classification\n",
    "from sklearn.model_selection import KFold\n",
    "import numpy as np"
   ]
  },
  {
   "cell_type": "markdown",
   "metadata": {},
   "source": [
    "## Generate the data"
   ]
  },
  {
   "cell_type": "code",
   "execution_count": 2,
   "metadata": {},
   "outputs": [
    {
     "data": {
      "text/plain": [
       "array([[3., 1., 3., ..., 2., 7., 2.],\n",
       "       [3., 3., 4., ..., 3., 1., 0.],\n",
       "       [2., 0., 2., ..., 4., 2., 1.],\n",
       "       ...,\n",
       "       [3., 4., 1., ..., 1., 1., 5.],\n",
       "       [2., 1., 6., ..., 2., 0., 4.],\n",
       "       [6., 5., 1., ..., 2., 2., 2.]])"
      ]
     },
     "execution_count": 2,
     "metadata": {},
     "output_type": "execute_result"
    }
   ],
   "source": [
    "X, y = make_multilabel_classification(n_samples=700)\n",
    "X"
   ]
  },
  {
   "cell_type": "markdown",
   "metadata": {},
   "source": [
    "## Create the model and initialize it with the parameters we want"
   ]
  },
  {
   "cell_type": "code",
   "execution_count": 3,
   "metadata": {},
   "outputs": [],
   "source": [
    "smile = SMiLE(s=0.5, alpha=0.35, k=5)"
   ]
  },
  {
   "cell_type": "markdown",
   "metadata": {},
   "source": [
    "## Generate the partitions of the data for training and predict"
   ]
  },
  {
   "cell_type": "code",
   "execution_count": 4,
   "metadata": {},
   "outputs": [
    {
     "name": "stdout",
     "output_type": "stream",
     "text": [
      "[[3. 1. 3. ... 2. 7. 2.]\n",
      " [3. 3. 4. ... 3. 1. 0.]\n",
      " [2. 0. 2. ... 4. 2. 1.]\n",
      " ...\n",
      " [0. 0. 0. ... 0. 2. 3.]\n",
      " [0. 3. 1. ... 1. 5. 3.]\n",
      " [2. 0. 3. ... 1. 1. 8.]]\n",
      "[[1. 3. 2. ... 2. 0. 2.]\n",
      " [2. 3. 2. ... 5. 2. 2.]\n",
      " [2. 4. 1. ... 1. 0. 0.]\n",
      " ...\n",
      " [3. 4. 1. ... 1. 1. 5.]\n",
      " [2. 1. 6. ... 2. 0. 4.]\n",
      " [6. 5. 1. ... 2. 2. 2.]]\n"
     ]
    }
   ],
   "source": [
    "skf = KFold(n_splits=2)\n",
    "for train_index, test_index in skf.split(X, y):\n",
    "    X_train, X_test = X[train_index], X[test_index]\n",
    "    y_train, y_test = y[train_index], y[test_index]\n",
    "\n",
    "print(X_train)\n",
    "print(X_test)"
   ]
  },
  {
   "cell_type": "markdown",
   "metadata": {},
   "source": [
    "## Now we will train our model and predict, to compare the results"
   ]
  },
  {
   "cell_type": "code",
   "execution_count": 5,
   "metadata": {},
   "outputs": [
    {
     "name": "stdout",
     "output_type": "stream",
     "text": [
      "[[0.         1.         0.         ... 1.         0.         1.        ]\n",
      " [0.         0.53434226 0.         ... 0.50799508 0.         0.50799508]\n",
      " [0.         1.         0.         ... 0.38158611 0.         0.38158611]\n",
      " [0.         0.6322502  0.         ... 0.7732259  0.         0.7732259 ]\n",
      " [0.         0.30688199 0.         ... 1.         0.         1.        ]]\n",
      "[[1. 1. 1. ... 1. 1. 1.]\n",
      " [1. 1. 1. ... 1. 1. 1.]\n",
      " [1. 1. 1. ... 1. 1. 1.]\n",
      " [1. 1. 1. ... 1. 1. 1.]\n",
      " [1. 1. 1. ... 1. 1. 1.]]\n",
      "[[1. 1. 1. ... 1. 1. 1.]\n",
      " [1. 1. 1. ... 1. 1. 1.]\n",
      " [1. 1. 1. ... 1. 1. 1.]\n",
      " [1. 1. 1. ... 1. 1. 1.]\n",
      " [1. 1. 1. ... 1. 1. 1.]]\n",
      "[[0 1 1 0 1]\n",
      " [0 1 1 0 0]\n",
      " [0 0 0 0 0]\n",
      " ...\n",
      " [0 1 1 0 0]\n",
      " [0 0 0 0 1]\n",
      " [0 0 1 0 1]]\n"
     ]
    }
   ],
   "source": [
    "#This algorithm works with columns rather than with rows\n",
    "X_train = np.transpose(X_train)\n",
    "y_train = np.transpose(y_train)\n",
    "X_test = np.transpose(X_test)\n",
    "smile.fit(X_train, y_train)\n",
    "predictions1, predictions2 = smile.predict(X_test)\n",
    "print(predictions1)\n",
    "print(predictions2)\n",
    "print(y_test)"
   ]
  },
  {
   "cell_type": "code",
   "execution_count": null,
   "metadata": {},
   "outputs": [],
   "source": []
  },
  {
   "cell_type": "code",
   "execution_count": null,
   "metadata": {},
   "outputs": [],
   "source": []
  }
 ],
 "metadata": {
  "kernelspec": {
   "display_name": "Python 2",
   "language": "python",
   "name": "python2"
  },
  "language_info": {
   "codemirror_mode": {
    "name": "ipython",
    "version": 2
   },
   "file_extension": ".py",
   "mimetype": "text/x-python",
   "name": "python",
   "nbconvert_exporter": "python",
   "pygments_lexer": "ipython2",
   "version": "2.7.14"
  }
 },
 "nbformat": 4,
 "nbformat_minor": 2
}
