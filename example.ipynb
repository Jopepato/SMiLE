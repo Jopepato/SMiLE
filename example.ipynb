{
 "cells": [
  {
   "cell_type": "markdown",
   "metadata": {},
   "source": [
    "# Example for trying the algorithm and basic use of it"
   ]
  },
  {
   "cell_type": "code",
   "execution_count": 1,
   "metadata": {},
   "outputs": [],
   "source": [
    "from SMILE.smile_ import SMiLE\n",
    "from sklearn.datasets import make_multilabel_classification\n",
    "from sklearn.model_selection import KFold\n",
    "from functions import readDataFromFile\n",
    "import numpy as np"
   ]
  },
  {
   "cell_type": "markdown",
   "metadata": {},
   "source": [
    "## Generate the data"
   ]
  },
  {
   "cell_type": "code",
   "execution_count": 2,
   "metadata": {},
   "outputs": [
    {
     "name": "stdout",
     "output_type": "stream",
     "text": [
      "  (0, 0)\t0.08254\n",
      "  (0, 1)\t0.048394\n",
      "  (0, 2)\t0.322451\n",
      "  (0, 3)\t0.099049\n",
      "  (0, 4)\t-73.856273\n",
      "  (0, 5)\t2.538128\n",
      "  (0, 6)\t2.72329\n",
      "  (0, 7)\t1.110571\n",
      "  (0, 8)\t1.154735\n",
      "  (0, 9)\t0.714657\n",
      "  (0, 10)\t0.653754\n",
      "  (0, 11)\t0.596543\n",
      "  (0, 12)\t0.7319\n",
      "  (0, 13)\t0.247547\n",
      "  (0, 14)\t0.731591\n",
      "  (0, 15)\t0.522678\n",
      "  (0, 16)\t0.176512\n",
      "  (0, 17)\t0.067492\n",
      "  (0, 18)\t0.055001\n",
      "  (0, 19)\t0.369305\n",
      "  (0, 20)\t0.043764\n",
      "  (0, 21)\t6.096384\n",
      "  (0, 22)\t1.972327\n",
      "  (0, 23)\t1.281913\n",
      "  (0, 24)\t1.193782\n",
      "  :\t:\n",
      "  (446, 43)\t0.352598\n",
      "  (446, 44)\t0.477449\n",
      "  (446, 45)\t0.3917\n",
      "  (446, 46)\t0.392415\n",
      "  (446, 47)\t0.445219\n",
      "  (446, 48)\t0.479271\n",
      "  (446, 49)\t0.465497\n",
      "  (446, 50)\t0.517615\n",
      "  (446, 51)\t0.012705\n",
      "  (446, 52)\t0.014322\n",
      "  (446, 53)\t0.047956\n",
      "  (446, 54)\t0.03165\n",
      "  (446, 55)\t1.815593\n",
      "  (446, 56)\t0.328488\n",
      "  (446, 57)\t0.250294\n",
      "  (446, 58)\t0.206286\n",
      "  (446, 59)\t0.133358\n",
      "  (446, 60)\t0.128053\n",
      "  (446, 61)\t0.1246\n",
      "  (446, 62)\t0.131482\n",
      "  (446, 63)\t0.127403\n",
      "  (446, 64)\t0.107976\n",
      "  (446, 65)\t0.11156\n",
      "  (446, 66)\t0.14343\n",
      "  (446, 67)\t0.171373\n"
     ]
    }
   ],
   "source": [
    "x_train, y_train = readDataFromFile('data/CAL5000.train')\n",
    "x_test, y_test = readDataFromFile('data/CAL5000.gen')\n",
    "print x_train"
   ]
  },
  {
   "cell_type": "markdown",
   "metadata": {},
   "source": [
    "## Create the model and initialize it with the parameters we want"
   ]
  },
  {
   "cell_type": "code",
   "execution_count": 3,
   "metadata": {},
   "outputs": [],
   "source": [
    "smile = SMiLE(s=0.5, alpha=0.35, k=5)"
   ]
  },
  {
   "cell_type": "markdown",
   "metadata": {},
   "source": [
    "## Now we will train our model and predict, to compare the results"
   ]
  },
  {
   "cell_type": "code",
   "execution_count": 4,
   "metadata": {},
   "outputs": [
    {
     "name": "stdout",
     "output_type": "stream",
     "text": [
      "[[0 0 0 ... 0 0 0]\n",
      " [1 0 1 ... 1 1 1]\n",
      " [0 0 0 ... 0 0 0]\n",
      " ...\n",
      " [0 0 0 ... 0 0 0]\n",
      " [0 0 0 ... 0 0 0]\n",
      " [0 0 0 ... 0 0 0]]\n",
      "[[3.27032845e-03 3.90746588e-03 7.48448789e-03 ... 6.86549378e-03\n",
      "  5.78721709e-03 3.38239169e-03]\n",
      " [1.00000000e+00 3.72597996e-02 1.00000000e+00 ... 1.00000000e+00\n",
      "  1.00000000e+00 1.00000000e+00]\n",
      " [1.24622415e-02 9.19482570e-03 1.67498477e-02 ... 2.30083356e-02\n",
      "  2.44666639e-02 1.36080665e-02]\n",
      " ...\n",
      " [2.92010522e-03 2.06699674e-03 1.54310016e-03 ... 1.33313714e-03\n",
      "  1.68909722e-03 1.98548128e-03]\n",
      " [1.69498979e-03 1.72262832e-03 1.21672286e-03 ... 1.08084730e-03\n",
      "  1.18409757e-03 1.38746823e-03]\n",
      " [9.90891880e-04 9.12466806e-04 7.76794296e-04 ... 8.21672099e-04\n",
      "  9.20060995e-04 7.95851039e-04]]\n",
      "[[ 1.73818017  1.85150084  3.54832438 ...  2.78142331  2.83373163\n",
      "   1.54004506]\n",
      " [ 1.         17.65506142  1.         ...  1.          1.\n",
      "   1.        ]\n",
      " [ 6.62368363  4.3568461   7.94094316 ...  9.32138648 11.9801898\n",
      "   6.19592218]\n",
      " ...\n",
      " [ 1.55203646  0.97941897  0.73156908 ...  0.54009498  0.82707252\n",
      "   0.90401436]\n",
      " [ 0.90088738  0.81624456  0.57683671 ...  0.43788458  0.57979763\n",
      "   0.63173157]\n",
      " [ 0.52665922  0.43236028  0.36827077 ...  0.33288471  0.45051117\n",
      "   0.36236089]]\n",
      "[[1 0 1 ... 0 0 0]\n",
      " [0 0 0 ... 0 0 0]\n",
      " [0 0 0 ... 0 0 0]\n",
      " ...\n",
      " [0 1 0 ... 0 0 0]\n",
      " [0 0 0 ... 0 0 0]\n",
      " [0 1 0 ... 0 0 0]]\n",
      "[[0.09171658 0.10592519 0.10382722 ... 0.08993424 0.08622821 0.095201  ]\n",
      " [0.66528978 0.62189048 0.62512631 ... 0.67230577 0.6870893  0.64841985]\n",
      " [0.30545928 0.34052648 0.33458787 ... 0.29372519 0.29394477 0.32028253]\n",
      " ...\n",
      " [0.02957744 0.02457533 0.02413907 ... 0.02807633 0.03631478 0.02463689]\n",
      " [0.02074572 0.01669562 0.0180218  ... 0.02344187 0.02069275 0.02110473]\n",
      " [0.01370054 0.01293759 0.01275654 ... 0.01040299 0.01174327 0.01313132]]\n",
      "[[0. 1. 0. ... 0. 0. 0.]\n",
      " [0. 1. 0. ... 0. 0. 0.]\n",
      " [0. 1. 0. ... 0. 0. 0.]\n",
      " ...\n",
      " [0. 1. 0. ... 0. 0. 0.]\n",
      " [0. 1. 0. ... 0. 0. 0.]\n",
      " [0. 1. 0. ... 0. 0. 0.]]\n"
     ]
    }
   ],
   "source": [
    "#This algorithm works with columns rather than with rows\n",
    "x_train = np.transpose(x_train.todense())\n",
    "y_train = np.transpose(y_train)\n",
    "x_test = np.transpose(x_test.todense())\n",
    "print y_train\n",
    "smile.fit(x_train, y_train)\n",
    "predictions, predictionsNormalized = smile.predict(x_test)\n",
    "print y_test\n",
    "print predictions\n",
    "print np.transpose(predictionsNormalized)"
   ]
  }
 ],
 "metadata": {
  "kernelspec": {
   "display_name": "Python 2",
   "language": "python",
   "name": "python2"
  },
  "language_info": {
   "codemirror_mode": {
    "name": "ipython",
    "version": 2
   },
   "file_extension": ".py",
   "mimetype": "text/x-python",
   "name": "python",
   "nbconvert_exporter": "python",
   "pygments_lexer": "ipython2",
   "version": "2.7.14"
  }
 },
 "nbformat": 4,
 "nbformat_minor": 2
}
