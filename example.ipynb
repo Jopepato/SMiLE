{
 "cells": [
  {
   "cell_type": "markdown",
   "metadata": {},
   "source": [
    "# Example for trying the algorithm and basic use of it"
   ]
  },
  {
   "cell_type": "code",
   "execution_count": 9,
   "metadata": {},
   "outputs": [],
   "source": [
    "from SMILE.smile_ import SMiLE\n",
    "from sklearn.datasets import make_multilabel_classification\n",
    "from sklearn.model_selection import KFold\n",
    "import numpy as np"
   ]
  },
  {
   "cell_type": "markdown",
   "metadata": {},
   "source": [
    "## Generate the data"
   ]
  },
  {
   "cell_type": "code",
   "execution_count": 10,
   "metadata": {},
   "outputs": [
    {
     "data": {
      "text/plain": [
       "array([[5., 1., 0., ..., 0., 0., 1.],\n",
       "       [4., 2., 6., ..., 1., 2., 2.],\n",
       "       [3., 3., 4., ..., 4., 1., 3.],\n",
       "       ...,\n",
       "       [2., 4., 3., ..., 1., 1., 1.],\n",
       "       [3., 5., 2., ..., 3., 3., 1.],\n",
       "       [5., 1., 7., ..., 3., 0., 7.]])"
      ]
     },
     "execution_count": 10,
     "metadata": {},
     "output_type": "execute_result"
    }
   ],
   "source": [
    "X, y = make_multilabel_classification(n_samples=700)\n",
    "X"
   ]
  },
  {
   "cell_type": "markdown",
   "metadata": {},
   "source": [
    "## Create the model and initialize it with the parameters we want"
   ]
  },
  {
   "cell_type": "code",
   "execution_count": 11,
   "metadata": {},
   "outputs": [],
   "source": [
    "smile = SMiLE(s=0.5, alpha=0.35, k=5)"
   ]
  },
  {
   "cell_type": "markdown",
   "metadata": {},
   "source": [
    "## Generate the partitions of the data for training and predict"
   ]
  },
  {
   "cell_type": "code",
   "execution_count": 12,
   "metadata": {},
   "outputs": [
    {
     "name": "stdout",
     "output_type": "stream",
     "text": [
      "[[5. 1. 0. ... 0. 0. 1.]\n",
      " [4. 2. 6. ... 1. 2. 2.]\n",
      " [3. 3. 4. ... 4. 1. 3.]\n",
      " ...\n",
      " [3. 1. 4. ... 0. 1. 1.]\n",
      " [1. 1. 1. ... 4. 2. 1.]\n",
      " [5. 2. 5. ... 2. 3. 2.]]\n",
      "[[3. 2. 3. ... 6. 3. 2.]\n",
      " [5. 5. 1. ... 2. 1. 4.]\n",
      " [1. 3. 1. ... 1. 1. 1.]\n",
      " ...\n",
      " [2. 4. 3. ... 1. 1. 1.]\n",
      " [3. 5. 2. ... 3. 3. 1.]\n",
      " [5. 1. 7. ... 3. 0. 7.]]\n"
     ]
    }
   ],
   "source": [
    "skf = KFold(n_splits=2)\n",
    "for train_index, test_index in skf.split(X, y):\n",
    "    X_train, X_test = X[train_index], X[test_index]\n",
    "    y_train, y_test = y[train_index], y[test_index]\n",
    "\n",
    "print(X_train)\n",
    "print(X_test)"
   ]
  },
  {
   "cell_type": "markdown",
   "metadata": {},
   "source": [
    "## Now we will train our model and predict, to compare the results"
   ]
  },
  {
   "cell_type": "code",
   "execution_count": 13,
   "metadata": {},
   "outputs": [
    {
     "name": "stdout",
     "output_type": "stream",
     "text": [
      "(5, 1)\n",
      "array([[2.46583312, 1.38658774, 1.9515829 , 1.35493632, 2.26174591],\n",
      "       [2.72918315, 1.64993777, 2.21493294, 1.61828636, 2.52509595],\n",
      "       [2.5427411 , 1.46349572, 2.02849089, 1.43184431, 2.3386539 ],\n",
      "       ...,\n",
      "       [2.64413146, 1.56488608, 2.12988124, 1.53323466, 2.44004425],\n",
      "       [2.61222506, 1.53297968, 2.09797484, 1.50132827, 2.40813785],\n",
      "       [2.8285126 , 1.74926722, 2.31426239, 1.71761581, 2.62442539]])\n",
      "array([[0, 1, 1, 1, 1],\n",
      "       [1, 1, 1, 1, 0],\n",
      "       [0, 0, 0, 0, 0],\n",
      "       ...,\n",
      "       [0, 1, 0, 0, 0],\n",
      "       [1, 1, 0, 1, 0],\n",
      "       [0, 0, 0, 1, 0]])\n"
     ]
    }
   ],
   "source": [
    "#This algorithm works with columns rather than with rows\n",
    "X_train = np.transpose(X_train)\n",
    "y_train = np.transpose(y_train)\n",
    "X_test = np.transpose(X_test)\n",
    "smile.fit(X_train, y_train)\n",
    "predictions = smile.predict(X_test)\n",
    "print(predictions)\n",
    "print(y_test)"
   ]
  },
  {
   "cell_type": "code",
   "execution_count": null,
   "metadata": {},
   "outputs": [],
   "source": []
  },
  {
   "cell_type": "code",
   "execution_count": null,
   "metadata": {},
   "outputs": [],
   "source": []
  }
 ],
 "metadata": {
  "kernelspec": {
   "display_name": "Python 2",
   "language": "python",
   "name": "python2"
  },
  "language_info": {
   "codemirror_mode": {
    "name": "ipython",
    "version": 2
   },
   "file_extension": ".py",
   "mimetype": "text/x-python",
   "name": "python",
   "nbconvert_exporter": "python",
   "pygments_lexer": "ipython2",
   "version": "2.7.14"
  }
 },
 "nbformat": 4,
 "nbformat_minor": 2
}
